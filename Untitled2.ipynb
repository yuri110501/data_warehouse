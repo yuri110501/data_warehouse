{
 "cells": [
  {
   "cell_type": "code",
   "execution_count": 1,
   "id": "2cac5db9",
   "metadata": {},
   "outputs": [],
   "source": [
    "import pandas as pd\n"
   ]
  },
  {
   "cell_type": "code",
   "execution_count": 2,
   "id": "a07086a6",
   "metadata": {},
   "outputs": [],
   "source": [
    "dados = pd.read_csv('tb_mesa.csv')"
   ]
  },
  {
   "cell_type": "code",
   "execution_count": 3,
   "id": "d632233e",
   "metadata": {},
   "outputs": [
    {
     "data": {
      "text/plain": [
       "<bound method DataFrame.info of      codigo_mesa  id_cliente  num_pessoa_mesa    data_hora_entrada  \\\n",
       "0              1          70               18  2023-01-29 03:16:24   \n",
       "1              2          35               13  2024-03-24 03:11:10   \n",
       "2              3          46               11  2022-10-19 05:52:38   \n",
       "3              4          46               15  2023-10-30 19:33:55   \n",
       "4              5          18                7  2023-11-16 13:37:16   \n",
       "..           ...         ...              ...                  ...   \n",
       "995          996          70                4  2023-09-27 14:27:30   \n",
       "996          997          35               11  2022-10-29 21:57:29   \n",
       "997          998          55               14  2023-06-22 08:53:01   \n",
       "998          999          62                6  2024-01-22 13:36:15   \n",
       "999         1000          72                2  2023-06-22 12:28:42   \n",
       "\n",
       "         data_hora_saida  \n",
       "0    2023-01-30 17:16:24  \n",
       "1    2024-03-27 00:11:10  \n",
       "2    2022-10-20 02:52:38  \n",
       "3    2023-10-31 22:33:55  \n",
       "4    2023-11-19 01:37:16  \n",
       "..                   ...  \n",
       "995  2023-09-28 22:27:30  \n",
       "996  2022-11-01 00:57:29  \n",
       "997  2023-06-23 20:53:01  \n",
       "998  2024-01-22 23:36:15  \n",
       "999  2023-06-26 07:28:42  \n",
       "\n",
       "[1000 rows x 5 columns]>"
      ]
     },
     "execution_count": 3,
     "metadata": {},
     "output_type": "execute_result"
    }
   ],
   "source": [
    "dados.info"
   ]
  },
  {
   "cell_type": "code",
   "execution_count": 4,
   "id": "4429f346",
   "metadata": {},
   "outputs": [],
   "source": [
    "dados.drop('id_cliente', axis = 1, inplace=True)\n",
    "dados.drop('num_pessoa_mesa', axis = 1, inplace=True)\n",
    "dados.drop('codigo_mesa', axis = 1, inplace=True)"
   ]
  },
  {
   "cell_type": "code",
   "execution_count": 5,
   "id": "5c59695e",
   "metadata": {},
   "outputs": [],
   "source": [
    "dados.to_csv('tb_mesa_alterados3.csv')"
   ]
  },
  {
   "cell_type": "code",
   "execution_count": 6,
   "id": "2fb36a01",
   "metadata": {},
   "outputs": [],
   "source": [
    "dados.to_csv('data_hora.csv')"
   ]
  },
  {
   "cell_type": "code",
   "execution_count": null,
   "id": "2f7ef5a1",
   "metadata": {},
   "outputs": [],
   "source": []
  }
 ],
 "metadata": {
  "kernelspec": {
   "display_name": "Python 3 (ipykernel)",
   "language": "python",
   "name": "python3"
  },
  "language_info": {
   "codemirror_mode": {
    "name": "ipython",
    "version": 3
   },
   "file_extension": ".py",
   "mimetype": "text/x-python",
   "name": "python",
   "nbconvert_exporter": "python",
   "pygments_lexer": "ipython3",
   "version": "3.9.13"
  }
 },
 "nbformat": 4,
 "nbformat_minor": 5
}
